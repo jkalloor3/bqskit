{
 "cells": [
  {
   "cell_type": "code",
   "execution_count": 2,
   "metadata": {},
   "outputs": [],
   "source": [
    "#import necessary libraries\n",
    "from scipy.stats import unitary_group\n",
    "import math\n",
    "import numpy as np\n",
    "from numpy import linalg as LA\n",
    "import itertools as it\n",
    "import qiskit as qk\n",
    "# from qiskit import Aer, IBMQ, execute\n",
    "import matplotlib.pyplot as plt"
   ]
  },
  {
   "cell_type": "code",
   "execution_count": 3,
   "metadata": {},
   "outputs": [],
   "source": [
    "#Define simulation parameters\n",
    "N = 3 #number of spins/qubits\n",
    "#TFIM Simulation parameters\n",
    "Jx = 0.01183898\n",
    "hz = 2.0*Jx\n",
    "freq = 0.0048\n",
    "delta_t = 3 #time-step size\n",
    "num_steps = 40 #number of time-steps, we start with a small number for speed of demonstration\n",
    "shots = 8192 #number of shots for circuit execution\n"
   ]
  },
  {
   "cell_type": "code",
   "execution_count": 4,
   "metadata": {},
   "outputs": [],
   "source": [
    "#create the circuit to execute the time-evolution operator for a given time-step\n",
    "def evolution_circuit_TFIM(num_time_steps, Jx, hz, freq, delta_t, N):\n",
    "    hbar = 0.658212    # eV*fs\n",
    "    time_evol_circuit = qk.QuantumCircuit(N)\n",
    "    #define rotation angles for gates in circuit\n",
    "    psiX = -2.0*Jx*delta_t/hbar\n",
    "    for step in range(num_time_steps):\n",
    "        t = (step + 0.5) * delta_t\n",
    "        psiZ = -2.0*hz*np.cos(2*np.pi*freq*t)*delta_t/hbar\n",
    "        #implement XX operator\n",
    "        for q in range(0,N-1):\n",
    "            time_evol_circuit.h(q)\n",
    "            time_evol_circuit.h(q+1)\n",
    "            time_evol_circuit.cx(q,q+1)\n",
    "            time_evol_circuit.rz(psiX,q+1)\n",
    "            time_evol_circuit.cx(q,q+1)\n",
    "            time_evol_circuit.h(q)\n",
    "            time_evol_circuit.h(q+1)\n",
    "        #implement Z operator\n",
    "        for q in range(0,N):\n",
    "            time_evol_circuit.rz(psiZ, q)\n",
    "    return time_evol_circuit\n"
   ]
  },
  {
   "cell_type": "code",
   "execution_count": 5,
   "metadata": {},
   "outputs": [],
   "source": [
    "#Create set of final circuits for quantum quench simulations\n",
    "circuits = []\n",
    "for i in range(0, num_steps+1):\n",
    "    #TFIM\n",
    "    circuits.append(evolution_circuit_TFIM(i,Jx,hz,freq,delta_t,N))"
   ]
  },
  {
   "cell_type": "code",
   "execution_count": null,
   "metadata": {},
   "outputs": [],
   "source": [
    "from bqskit.ir.gates import *\n",
    "\n",
    "def make_matchgate():\n",
    "    rz = ZGate()\n",
    "    rx = XGate()\n",
    "    cnot = CNOTGate()\n",
    "    I = IdentityGate()\n",
    "\n",
    "    RZ_layer = KroneckerGate(rz,rz)\n",
    "    RX_layer = KroneckerGate(rx,rx)\n",
    "    RXRZ_layer = KroneckerGate(rx, rz)\n",
    "    matchgate = ProductGate(RZ_layer, RX_layer, cnot, RXRZ_layer, cnot, RX_layer, RZ_layer)\n",
    "    return matchgate\n",
    "    \n",
    "def make_layertype1(N):\n",
    "    I = IdentityGate()\n",
    "    for i in range(int(N/2)):\n",
    "        if (i==0):\n",
    "            layer = make_matchgate()\n",
    "        else:\n",
    "            layer = KroneckerGate(layer,make_matchgate())\n",
    "    if (N%2 != 0): \n",
    "        layer = KroneckerGate(layer, I)\n",
    "    return layer\n",
    "        \n",
    "def make_layertype2(N):\n",
    "    I = IdentityGate()\n",
    "    layer = I\n",
    "    #N even\n",
    "    if (N%2==0):\n",
    "        for _ in range(int(N/2)-1):\n",
    "            layer = KroneckerGate(layer,make_matchgate())\n",
    "        layer = KroneckerGate(layer,I)\n",
    "    #N odd\n",
    "    else:\n",
    "        for _ in range(int(N/2)):\n",
    "            layer = KroneckerGate(layer,make_matchgate())\n",
    "    return layer\n",
    "\n",
    "def make_MGC(N):\n",
    "    \"\"\"\n",
    "    Make matchgate circuit for N qubits.\n",
    "    Args:\n",
    "        N (int): The number of spins.\n",
    "    Returns\n",
    "        circuit (ProductGate): Circuit of QSearch gates.\n",
    "    \"\"\"\n",
    "    for l in range(N):\n",
    "        #add layer_type1\n",
    "        if (l%2 == 0):\n",
    "            if(l==0):\n",
    "                circuit = make_layertype2(N)\n",
    "            else:\n",
    "                circuit = ProductGate(circuit, make_layertype2(N))\n",
    "        #add layer_type2\n",
    "        else:\n",
    "            circuit = ProductGate(circuit, make_layertype1(N))\n",
    "    return circuit"
   ]
  }
 ],
 "metadata": {
  "kernelspec": {
   "display_name": "ensemble_env_2",
   "language": "python",
   "name": "python3"
  },
  "language_info": {
   "codemirror_mode": {
    "name": "ipython",
    "version": 3
   },
   "file_extension": ".py",
   "mimetype": "text/x-python",
   "name": "python",
   "nbconvert_exporter": "python",
   "pygments_lexer": "ipython3",
   "version": "3.10.11"
  }
 },
 "nbformat": 4,
 "nbformat_minor": 2
}
