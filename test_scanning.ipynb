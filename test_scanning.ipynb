{
 "cells": [
  {
   "cell_type": "code",
   "execution_count": 1,
   "metadata": {},
   "outputs": [],
   "source": [
    "from timeit import default_timer as timer\n",
    "from bqskit import Circuit\n",
    "from bqskit.compiler import Compiler, CompilationTask\n",
    "# from bqskit.ir.gates.constant.cx import CXGate\n",
    "# from bqskit.ir.opt.cost.functions.cost.hilbertschmidt import HilbertSchmidtCostGenerator\n",
    "# from bqskit.ir.opt.instantiaters import QFactor_jax_batched_jit\n",
    "# from bqskit.ir.opt.minimizers.lbfgs import LBFGSMinimizer\n",
    "from bqskit.passes import *"
   ]
  },
  {
   "cell_type": "code",
   "execution_count": 2,
   "metadata": {},
   "outputs": [],
   "source": [
    "file_path = \"adder9.qasm\"\n",
    "in_circuit = Circuit.from_file(file_path)\n",
    "\n",
    "while_scanning_removal = [WhileLoopPass(ChangePredicate(), [ #RestoreIntermediatePass(\"int_blocks/scan\", is_block=True), \n",
    "                                                            OneGateRemovalPass(), \n",
    "                                                            SaveIntermediatePass(\"int_blocks\", \"scan\", save_as_qasm=False, is_block=True)\n",
    "                                                            ])]\n",
    "\n",
    "operations_to_perfrom_on_block = [\n",
    "                    ScanningGateRemovalPass(),  \n",
    "                ]\n",
    "\n",
    "operations_to_perfrom_on_block_while = while_scanning_removal  \n",
    "\n",
    "passes =         [\n",
    "        # Convert U3's to VU\n",
    "        FromU3ToVariablePass(),\n",
    "\n",
    "        QuickPartitioner(3),\n",
    "        RestoreIntermediatePass(\"int_blocks/scan\"),    \n",
    "        ForEachBlockPass(operations_to_perfrom_on_block_while),\n",
    "        UnfoldPass(),\n",
    "        \n",
    "        # Convert back to u3 the VU\n",
    "        #ToU3Pass()\n",
    "        ]\n",
    "\n",
    "task = CompilationTask(in_circuit.copy(), passes)\n",
    "\n",
    "compiler =  Compiler(num_workers=1)"
   ]
  },
  {
   "cell_type": "code",
   "execution_count": 3,
   "metadata": {},
   "outputs": [
    {
     "name": "stdout",
     "output_type": "stream",
     "text": [
      "Trying next\n",
      "18\n"
     ]
    }
   ],
   "source": [
    "task = CompilationTask(in_circuit.copy(), passes)\n",
    "\n",
    "compiler =  Compiler(num_workers=1)\n",
    "\n",
    "\n",
    "start = timer()\n",
    "\n",
    "out_circuit = compiler.compile(task)\n",
    "\n",
    "end = timer()\n",
    "run_time = end - start"
   ]
  },
  {
   "cell_type": "code",
   "execution_count": 4,
   "metadata": {},
   "outputs": [
    {
     "name": "stdout",
     "output_type": "stream",
     "text": [
      "Partitioning + Synthesis took 2.5464267199859023\n",
      "Circuit finished with gates: {CNOTGate: 97, U3Gate: 56}.\n"
     ]
    }
   ],
   "source": [
    "print(\n",
    "    f\"Partitioning + Synthesis took {run_time}\"\n",
    ")\n",
    "print(f\"Circuit finished with gates: {out_circuit.gate_counts}.\")\n",
    "final_gates_count_by_qudit_number = {g.num_qudits:v for g,v in out_circuit.gate_counts.items()}\n",
    "compiler.close()"
   ]
  }
 ],
 "metadata": {
  "kernelspec": {
   "display_name": "jax",
   "language": "python",
   "name": "python3"
  },
  "language_info": {
   "codemirror_mode": {
    "name": "ipython",
    "version": 3
   },
   "file_extension": ".py",
   "mimetype": "text/x-python",
   "name": "python",
   "nbconvert_exporter": "python",
   "pygments_lexer": "ipython3",
   "version": "3.8.16"
  },
  "orig_nbformat": 4
 },
 "nbformat": 4,
 "nbformat_minor": 2
}
