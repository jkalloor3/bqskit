{
 "cells": [
  {
   "cell_type": "code",
   "execution_count": 1,
   "metadata": {},
   "outputs": [],
   "source": [
    "from timeit import default_timer as timer\n",
    "from bqskit import Circuit\n",
    "from bqskit.compiler import Compiler, CompilationTask\n",
    "# from bqskit.ir.gates.constant.cx import CXGate\n",
    "# from bqskit.ir.opt.cost.functions.cost.hilbertschmidt import HilbertSchmidtCostGenerator\n",
    "# from bqskit.ir.opt.instantiaters import QFactor_jax_batched_jit\n",
    "# from bqskit.ir.opt.minimizers.lbfgs import LBFGSMinimizer\n",
    "from bqskit.passes import *"
   ]
  },
  {
   "cell_type": "code",
   "execution_count": 2,
   "metadata": {},
   "outputs": [],
   "source": [
    "file_path = \"adder9.qasm\"\n",
    "in_circuit = Circuit.from_file(file_path)\n",
    "\n",
    "operations_to_perfrom_on_block = [\n",
    "                    ScanningGateRemovalPass(checkpoint_proj=\"int_blocks2\"),  \n",
    "                ]\n",
    "\n",
    "passes =         [\n",
    "        # Convert U3's to VU\n",
    "        FromU3ToVariablePass(),\n",
    "\n",
    "        QuickPartitioner(3), \n",
    "        ForEachBlockPass(operations_to_perfrom_on_block),\n",
    "        UnfoldPass(),\n",
    "        \n",
    "        # Convert back to u3 the VU\n",
    "        ToU3Pass()\n",
    "        ]\n",
    "\n",
    "task = CompilationTask(in_circuit.copy(), passes)\n",
    "\n",
    "compiler =  Compiler(num_workers=1)"
   ]
  },
  {
   "cell_type": "code",
   "execution_count": 3,
   "metadata": {},
   "outputs": [
    {
     "name": "stdout",
     "output_type": "stream",
     "text": [
      "18\n",
      "len(subcircuit)  19\n",
      "starting at  18\n",
      "len(subcircuit)  19\n",
      "starting at  18\n"
     ]
    },
    {
     "ename": "RuntimeError",
     "evalue": "Server connection unexpectedly closed.",
     "output_type": "error",
     "traceback": [
      "\u001b[0;31m---------------------------------------------------------------------------\u001b[0m",
      "\u001b[0;31mRuntimeError\u001b[0m                              Traceback (most recent call last)",
      "File \u001b[0;32m/pscratch/sd/j/jkalloor/bqskit/bqskit/compiler/compiler.py:396\u001b[0m, in \u001b[0;36mCompiler._send_recv\u001b[0;34m(self, msg, payload)\u001b[0m\n\u001b[1;32m    394\u001b[0m     \u001b[39mself\u001b[39m\u001b[39m.\u001b[39mconn\u001b[39m.\u001b[39msend((msg, payload))\n\u001b[0;32m--> 396\u001b[0m     \u001b[39mreturn\u001b[39;00m \u001b[39mself\u001b[39;49m\u001b[39m.\u001b[39;49m_recv_handle_log_error()\n\u001b[1;32m    398\u001b[0m \u001b[39mexcept\u001b[39;00m \u001b[39mException\u001b[39;00m \u001b[39mas\u001b[39;00m e:\n",
      "File \u001b[0;32m/pscratch/sd/j/jkalloor/bqskit/bqskit/compiler/compiler.py:418\u001b[0m, in \u001b[0;36mCompiler._recv_handle_log_error\u001b[0;34m(self)\u001b[0m\n\u001b[1;32m    417\u001b[0m \u001b[39melif\u001b[39;00m msg \u001b[39m==\u001b[39m RuntimeMessage\u001b[39m.\u001b[39mERROR:\n\u001b[0;32m--> 418\u001b[0m     \u001b[39mraise\u001b[39;00m \u001b[39mRuntimeError\u001b[39;00m(payload)\n\u001b[1;32m    420\u001b[0m \u001b[39melse\u001b[39;00m:\n\u001b[1;32m    421\u001b[0m     \u001b[39m# Communication between runtime server and compiler\u001b[39;00m\n\u001b[1;32m    422\u001b[0m     \u001b[39m# is always round-trip. Once we have received our\u001b[39;00m\n\u001b[0;32m   (...)\u001b[0m\n\u001b[1;32m    427\u001b[0m     \u001b[39m# process every arrived message before returning.\u001b[39;00m\n\u001b[1;32m    428\u001b[0m     \u001b[39m# Hence, the `or self.conn.poll()` in the while condition.\u001b[39;00m\n",
      "\u001b[0;31mRuntimeError\u001b[0m: Traceback (most recent call last):\n  File \"/pscratch/sd/j/jkalloor/bqskit/bqskit/runtime/worker.py\", line 378, in _try_step_next_ready_task\n    future = task.step(self._get_desired_result(task))\n  File \"/pscratch/sd/j/jkalloor/bqskit/bqskit/runtime/task.py\", line 93, in step\n    to_return = self.coro.send(send_val)\n  File \"/pscratch/sd/j/jkalloor/bqskit/bqskit/runtime/task.py\", line 107, in run\n    return await self.fnargs[0](*self.fnargs[1], **self.fnargs[2])\n  File \"/pscratch/sd/j/jkalloor/bqskit/bqskit/compiler/basepass.py\", line 170, in _sub_do_work\n    await workflow.run(circuit, data)\n  File \"/pscratch/sd/j/jkalloor/bqskit/bqskit/compiler/workflow.py\", line 55, in run\n    await pass_obj.run(circuit, data)\n  File \"/pscratch/sd/j/jkalloor/bqskit/bqskit/passes/processing/scan.py\", line 135, in run\n    with open(save_circuit_file, \"rb\") as cf:\nFileNotFoundError: [Errno 2] No such file or directory: 'int_blocks/block_2.circ'\n",
      "\nThe above exception was the direct cause of the following exception:\n",
      "\u001b[0;31mRuntimeError\u001b[0m                              Traceback (most recent call last)",
      "\u001b[1;32m/pscratch/sd/j/jkalloor/bqskit/test_scanning.ipynb Cell 3\u001b[0m in \u001b[0;36m<cell line: 8>\u001b[0;34m()\u001b[0m\n\u001b[1;32m      <a href='vscode-notebook-cell://ssh-remote%2B7b22686f73744e616d65223a225065726c6d7574746572227d/pscratch/sd/j/jkalloor/bqskit/test_scanning.ipynb#W2sdnNjb2RlLXJlbW90ZQ%3D%3D?line=2'>3</a>\u001b[0m compiler \u001b[39m=\u001b[39m  Compiler(num_workers\u001b[39m=\u001b[39m\u001b[39m1\u001b[39m)\n\u001b[1;32m      <a href='vscode-notebook-cell://ssh-remote%2B7b22686f73744e616d65223a225065726c6d7574746572227d/pscratch/sd/j/jkalloor/bqskit/test_scanning.ipynb#W2sdnNjb2RlLXJlbW90ZQ%3D%3D?line=5'>6</a>\u001b[0m start \u001b[39m=\u001b[39m timer()\n\u001b[0;32m----> <a href='vscode-notebook-cell://ssh-remote%2B7b22686f73744e616d65223a225065726c6d7574746572227d/pscratch/sd/j/jkalloor/bqskit/test_scanning.ipynb#W2sdnNjb2RlLXJlbW90ZQ%3D%3D?line=7'>8</a>\u001b[0m out_circuit \u001b[39m=\u001b[39m compiler\u001b[39m.\u001b[39;49mcompile(task)\n\u001b[1;32m     <a href='vscode-notebook-cell://ssh-remote%2B7b22686f73744e616d65223a225065726c6d7574746572227d/pscratch/sd/j/jkalloor/bqskit/test_scanning.ipynb#W2sdnNjb2RlLXJlbW90ZQ%3D%3D?line=9'>10</a>\u001b[0m end \u001b[39m=\u001b[39m timer()\n\u001b[1;32m     <a href='vscode-notebook-cell://ssh-remote%2B7b22686f73744e616d65223a225065726c6d7574746572227d/pscratch/sd/j/jkalloor/bqskit/test_scanning.ipynb#W2sdnNjb2RlLXJlbW90ZQ%3D%3D?line=10'>11</a>\u001b[0m run_time \u001b[39m=\u001b[39m end \u001b[39m-\u001b[39m start\n",
      "File \u001b[0;32m/pscratch/sd/j/jkalloor/bqskit/bqskit/compiler/compiler.py:359\u001b[0m, in \u001b[0;36mCompiler.compile\u001b[0;34m(self, task_or_circuit, workflow, request_data, logging_level, max_logging_depth)\u001b[0m\n\u001b[1;32m    344\u001b[0m     warnings\u001b[39m.\u001b[39mwarn(\n\u001b[1;32m    345\u001b[0m         \u001b[39m'\u001b[39m\u001b[39mManually constructing and compiling CompilationTasks\u001b[39m\u001b[39m'\u001b[39m\n\u001b[1;32m    346\u001b[0m         \u001b[39m'\u001b[39m\u001b[39m is deprecated. Instead, call compile directly with\u001b[39m\u001b[39m'\u001b[39m\n\u001b[0;32m   (...)\u001b[0m\n\u001b[1;32m    349\u001b[0m         \u001b[39mDeprecationWarning\u001b[39;00m,\n\u001b[1;32m    350\u001b[0m     )\n\u001b[1;32m    352\u001b[0m task_id \u001b[39m=\u001b[39m \u001b[39mself\u001b[39m\u001b[39m.\u001b[39msubmit(\n\u001b[1;32m    353\u001b[0m     task_or_circuit,\n\u001b[1;32m    354\u001b[0m     workflow,\n\u001b[0;32m   (...)\u001b[0m\n\u001b[1;32m    357\u001b[0m     max_logging_depth,\n\u001b[1;32m    358\u001b[0m )\n\u001b[0;32m--> 359\u001b[0m result \u001b[39m=\u001b[39m \u001b[39mself\u001b[39;49m\u001b[39m.\u001b[39;49mresult(task_id)\n\u001b[1;32m    361\u001b[0m \u001b[39m# Ensure arrival of all log messages\u001b[39;00m\n\u001b[1;32m    362\u001b[0m time\u001b[39m.\u001b[39msleep(\u001b[39m0.05\u001b[39m \u001b[39mif\u001b[39;00m \u001b[39mself\u001b[39m\u001b[39m.\u001b[39mp \u001b[39mis\u001b[39;00m \u001b[39mnot\u001b[39;00m \u001b[39mNone\u001b[39;00m \u001b[39melse\u001b[39;00m \u001b[39m0.5\u001b[39m)\n",
      "File \u001b[0;32m/pscratch/sd/j/jkalloor/bqskit/bqskit/compiler/compiler.py:280\u001b[0m, in \u001b[0;36mCompiler.result\u001b[0;34m(self, task_id)\u001b[0m\n\u001b[1;32m    277\u001b[0m     task_id \u001b[39m=\u001b[39m task_id\u001b[39m.\u001b[39mtask_id\n\u001b[1;32m    278\u001b[0m \u001b[39massert\u001b[39;00m \u001b[39misinstance\u001b[39m(task_id, uuid\u001b[39m.\u001b[39mUUID)\n\u001b[0;32m--> 280\u001b[0m msg, payload \u001b[39m=\u001b[39m \u001b[39mself\u001b[39;49m\u001b[39m.\u001b[39;49m_send_recv(RuntimeMessage\u001b[39m.\u001b[39;49mREQUEST, task_id)\n\u001b[1;32m    281\u001b[0m \u001b[39mif\u001b[39;00m msg \u001b[39m!=\u001b[39m RuntimeMessage\u001b[39m.\u001b[39mRESULT:\n\u001b[1;32m    282\u001b[0m     \u001b[39mraise\u001b[39;00m \u001b[39mRuntimeError\u001b[39;00m(\u001b[39mf\u001b[39m\u001b[39m'\u001b[39m\u001b[39mUnexpected message type: \u001b[39m\u001b[39m{\u001b[39;00mmsg\u001b[39m}\u001b[39;00m\u001b[39m.\u001b[39m\u001b[39m'\u001b[39m)\n",
      "File \u001b[0;32m/pscratch/sd/j/jkalloor/bqskit/bqskit/compiler/compiler.py:401\u001b[0m, in \u001b[0;36mCompiler._send_recv\u001b[0;34m(self, msg, payload)\u001b[0m\n\u001b[1;32m    399\u001b[0m \u001b[39mself\u001b[39m\u001b[39m.\u001b[39mconn \u001b[39m=\u001b[39m \u001b[39mNone\u001b[39;00m\n\u001b[1;32m    400\u001b[0m \u001b[39mself\u001b[39m\u001b[39m.\u001b[39mclose()\n\u001b[0;32m--> 401\u001b[0m \u001b[39mraise\u001b[39;00m \u001b[39mRuntimeError\u001b[39;00m(\u001b[39m'\u001b[39m\u001b[39mServer connection unexpectedly closed.\u001b[39m\u001b[39m'\u001b[39m) \u001b[39mfrom\u001b[39;00m \u001b[39me\u001b[39;00m\n",
      "\u001b[0;31mRuntimeError\u001b[0m: Server connection unexpectedly closed."
     ]
    }
   ],
   "source": [
    "task = CompilationTask(in_circuit.copy(), passes)\n",
    "\n",
    "compiler =  Compiler(num_workers=1)\n",
    "\n",
    "\n",
    "start = timer()\n",
    "\n",
    "out_circuit = compiler.compile(task)\n",
    "\n",
    "end = timer()\n",
    "run_time = end - start"
   ]
  },
  {
   "cell_type": "code",
   "execution_count": 4,
   "metadata": {},
   "outputs": [
    {
     "name": "stdout",
     "output_type": "stream",
     "text": [
      "Partitioning + Synthesis took 3.627457784023136\n",
      "Circuit finished with gates: {U3Gate: 57, CNOTGate: 97}.\n"
     ]
    }
   ],
   "source": [
    "print(\n",
    "    f\"Partitioning + Synthesis took {run_time}\"\n",
    ")\n",
    "print(f\"Circuit finished with gates: {out_circuit.gate_counts}.\")\n",
    "final_gates_count_by_qudit_number = {g.num_qudits:v for g,v in out_circuit.gate_counts.items()}\n",
    "compiler.close()"
   ]
  }
 ],
 "metadata": {
  "kernelspec": {
   "display_name": "jax",
   "language": "python",
   "name": "python3"
  },
  "language_info": {
   "codemirror_mode": {
    "name": "ipython",
    "version": 3
   },
   "file_extension": ".py",
   "mimetype": "text/x-python",
   "name": "python",
   "nbconvert_exporter": "python",
   "pygments_lexer": "ipython3",
   "version": "3.8.16"
  },
  "orig_nbformat": 4
 },
 "nbformat": 4,
 "nbformat_minor": 2
}
