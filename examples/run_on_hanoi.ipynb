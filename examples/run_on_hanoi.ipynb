{
 "cells": [
  {
   "cell_type": "code",
   "execution_count": null,
   "metadata": {},
   "outputs": [],
   "source": [
    "from qiskit.providers.fake_provider import FakeHanoi\n",
    "from qiskit import QuantumCircuit, BasicAer\n",
    "from qiskit.tools import job_monitor\n",
    "from qiskit.quantum_info.analysis import hellinger_fidelity\n",
    "\n",
    "from qiskit import IBMQ\n",
    "IBMQ.load_account()\n",
    "provider = IBMQ.get_provider(hub='ibm-q')\n"
   ]
  },
  {
   "cell_type": "code",
   "execution_count": null,
   "metadata": {},
   "outputs": [],
   "source": [
    "from qiskit.providers.ibmq import least_busy\n",
    "\n",
    "small_devices = provider.backends(filters=lambda x: x.configuration().n_qubits >= 7\n",
    "                                   and not x.configuration().simulator)\n",
    "backend = least_busy(small_devices)\n",
    "\n",
    "print(backend)"
   ]
  },
  {
   "cell_type": "code",
   "execution_count": null,
   "metadata": {},
   "outputs": [],
   "source": [
    "# BQSKIT Compile\n",
    "from bqskit import Circuit\n",
    "from bqskit.compiler import Compiler, compile\n",
    "from qiskit.providers.fake_provider import FakeHanoi\n",
    "from bqskit.ext import model_from_backend\n",
    "\n",
    "\n",
    "machine_model = model_from_backend(backend)\n",
    "machine_model.add_noise_model_from_backend(backend)\n",
    "\n",
    "\n",
    "circ_name = \"qft_5\"\n",
    "run_noise_aware = True\n",
    "placement_name = \"noise_aware\" if run_noise_aware else \"greedy\"\n",
    "\n",
    "# Load a circuit from QASM\n",
    "circuit = Circuit.from_file('{}.qasm'.format(circ_name))\n",
    "\n",
    "print(circuit.gate_counts)\n",
    "print(circuit.depth)\n",
    "\n",
    "# Compile it with optimization level 2\n",
    "noise_aware_circuit = compile(circuit, model=machine_model, run_noise_aware=run_noise_aware, optimization_level=3, max_synthesis_size=4)\n",
    "greedy_circuit = compile(circuit, model=machine_model, run_noise_aware=False, optimization_level=3, max_synthesis_size=4)"
   ]
  },
  {
   "cell_type": "code",
   "execution_count": null,
   "metadata": {},
   "outputs": [],
   "source": [
    "from bqskit.ext import bqskit_to_qiskit\n",
    "\n",
    "circ_name = \"qft_5\"\n",
    "\n",
    "correct_circ = QuantumCircuit.from_qasm_file(\"{}.qasm\".format(circ_name))\n",
    "greedy_circ = bqskit_to_qiskit(greedy_circuit)\n",
    "noise_circ = bqskit_to_qiskit(noise_aware_circuit)\n",
    "\n",
    "greedy_circ.measure_all()\n",
    "noise_circ.measure_all()\n",
    "\n",
    "from qiskit import transpile\n",
    "transpiled_circ = transpile(correct_circ, backend, routing_method='sabre')\n",
    "transpiled_circ.measure_all()\n",
    "\n",
    "print(greedy_circ.count_ops())\n",
    "print(noise_circ.count_ops())\n",
    "print(transpiled_circ.count_ops())\n",
    "\n",
    "print(greedy_circ.depth())\n",
    "print(noise_circ.depth())\n",
    "print(transpiled_circ.depth())\n",
    "\n",
    "all_circs = [transpiled_circ, greedy_circ, noise_circ]"
   ]
  },
  {
   "cell_type": "code",
   "execution_count": null,
   "metadata": {},
   "outputs": [],
   "source": [
    "from qiskit import execute\n",
    "job = execute(all_circs, backend, shots=1024)\n",
    "job_monitor(job)"
   ]
  },
  {
   "cell_type": "code",
   "execution_count": null,
   "metadata": {},
   "outputs": [],
   "source": [
    "counts_1 = job.result().get_counts(1)\n",
    "print(counts_1)\n",
    "counts_2 = job.result().get_counts(2)\n",
    "print(counts_2)\n",
    "counts_3 = job.result().get_counts(0)\n",
    "print(counts_3)"
   ]
  },
  {
   "cell_type": "code",
   "execution_count": null,
   "metadata": {},
   "outputs": [],
   "source": [
    "# Run Simulator\n",
    "from qiskit.providers.aer import AerSimulator\n",
    "\n",
    "simulator = AerSimulator(method='matrix_product_state')\n",
    "job_4 = simulator.run(transpiled_circ)\n",
    "\n",
    "transpiled_circ.count_ops()"
   ]
  },
  {
   "cell_type": "code",
   "execution_count": null,
   "metadata": {},
   "outputs": [],
   "source": [
    "counts_actual = job_4.result().get_counts()\n",
    "print(counts_actual)"
   ]
  },
  {
   "cell_type": "code",
   "execution_count": null,
   "metadata": {},
   "outputs": [],
   "source": [
    "fid_noise_aware = hellinger_fidelity(counts_1, counts_actual)\n",
    "fid_greedy = hellinger_fidelity(counts_2, counts_actual)\n",
    "fid_norm = hellinger_fidelity(counts_3, counts_actual)\n",
    "\n",
    "print(\"Noise Aware Fidelity: {}\".format(fid_noise_aware))\n",
    "print(\"Greedy Fidelity: {}\".format(fid_greedy))\n",
    "print(\"IBM Compiler Fidelity: {}\".format(fid_norm))"
   ]
  }
 ],
 "metadata": {
  "kernelspec": {
   "display_name": "Python 3.9.13 ('bqskit')",
   "language": "python",
   "name": "python3"
  },
  "language_info": {
   "codemirror_mode": {
    "name": "ipython",
    "version": 3
   },
   "file_extension": ".py",
   "mimetype": "text/x-python",
   "name": "python",
   "nbconvert_exporter": "python",
   "pygments_lexer": "ipython3",
   "version": "3.9.13"
  },
  "orig_nbformat": 4,
  "vscode": {
   "interpreter": {
    "hash": "3d731ca7efdac855067d959f2bc3264566c594cb46f33105dee2859ae0f65508"
   }
  }
 },
 "nbformat": 4,
 "nbformat_minor": 2
}
