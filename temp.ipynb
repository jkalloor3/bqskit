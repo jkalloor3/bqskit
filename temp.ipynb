{
 "cells": [
  {
   "cell_type": "code",
   "execution_count": 13,
   "metadata": {},
   "outputs": [
    {
     "name": "stdout",
     "output_type": "stream",
     "text": [
      "25071\n",
      "24990\n"
     ]
    }
   ],
   "source": [
    "import numpy as np\n",
    "\n",
    "prev = 1\n",
    "A = 0\n",
    "B = 0\n",
    "for i in range(100000):\n",
    "    if np.random.rand() < 0.5:\n",
    "        cur = 0\n",
    "    else:\n",
    "        cur = 1\n",
    "    \n",
    "    if (cur == 0 and prev == 0):\n",
    "        A += 1\n",
    "    elif (cur == 1 and prev == 0):\n",
    "        B += 1\n",
    "    \n",
    "    prev = cur\n",
    "\n",
    "print(A)\n",
    "print(B)"
   ]
  }
 ],
 "metadata": {
  "kernelspec": {
   "display_name": "Python 3",
   "language": "python",
   "name": "python3"
  },
  "language_info": {
   "codemirror_mode": {
    "name": "ipython",
    "version": 3
   },
   "file_extension": ".py",
   "mimetype": "text/x-python",
   "name": "python",
   "nbconvert_exporter": "python",
   "pygments_lexer": "ipython3",
   "version": "3.10.11"
  }
 },
 "nbformat": 4,
 "nbformat_minor": 2
}
