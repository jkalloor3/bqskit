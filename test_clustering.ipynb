{
 "cells": [
  {
   "cell_type": "code",
   "execution_count": 57,
   "metadata": {
    "tags": []
   },
   "outputs": [
    {
     "name": "stdout",
     "output_type": "stream",
     "text": [
      "1000\n"
     ]
    }
   ],
   "source": [
    "import pickle\n",
    "import numpy as np\n",
    "import random\n",
    "\n",
    "from bqskit.ir import Circuit\n",
    "\n",
    "# Specify the path to the pickle file\n",
    "file_path = \"small_circs.pkl\"\n",
    "\n",
    "k = 100\n",
    "\n",
    "# Load the pickle data\n",
    "with open(file_path, \"rb\") as file:\n",
    "    data: list[Circuit] = pickle.load(file)\n",
    "\n",
    "unitaries = [u.get_unitary() for u in data]\n",
    "\n",
    "# data = np.array(data)\n",
    "\n",
    "# Access the loaded data\n",
    "print(len(data))"
   ]
  },
  {
   "cell_type": "code",
   "execution_count": 58,
   "metadata": {},
   "outputs": [],
   "source": [
    "from bqskit.qis import UnitaryMatrix\n",
    "import time\n",
    "\n",
    "def euclidean_distance(a, b):\n",
    "    return np.sum((a - b) ** 2)\n",
    "\n",
    "def get_distances(ensemble):\n",
    "    avg_cost = 0\n",
    "    count = 0\n",
    "    for i in range(len(ensemble) - 1):\n",
    "        for j in range(i + 1, len(ensemble)):\n",
    "            avg_cost += UnitaryMatrix(ensemble[i]).get_frobenius_distance(UnitaryMatrix(ensemble[j]))\n",
    "            count += 1\n",
    "    return avg_cost / count\n",
    "\n",
    "def get_euc_distances(ensemble):\n",
    "    avg_cost = 0\n",
    "    count = 0\n",
    "    for i in range(len(ensemble) - 1):\n",
    "        for j in range(i + 1, len(ensemble)):\n",
    "            avg_cost += euclidean_distance(ensemble[i], ensemble[j])\n",
    "            count += 1\n",
    "    return avg_cost / count\n",
    "\n",
    "vec_unitaries = np.array([u.get_flat_vector() for u in unitaries])\n",
    "\n"
   ]
  },
  {
   "cell_type": "code",
   "execution_count": 59,
   "metadata": {},
   "outputs": [
    {
     "name": "stdout",
     "output_type": "stream",
     "text": [
      "1.2668105756471378e-05 15.056024312973022\n",
      "1.2668105756471378e-05 3.3388831615448\n"
     ]
    }
   ],
   "source": [
    "start = time.time()\n",
    "\n",
    "dist_1 = get_distances(unitaries)\n",
    "\n",
    "t1 = time.time() - start\n",
    "\n",
    "start = time.time()\n",
    "\n",
    "dist_2 = get_euc_distances(vec_unitaries)\n",
    "\n",
    "t2 = time.time() - start\n",
    "\n",
    "print(dist_1, t1)\n",
    "print(dist_2, t2)\n"
   ]
  },
  {
   "cell_type": "code",
   "execution_count": 60,
   "metadata": {},
   "outputs": [
    {
     "name": "stderr",
     "output_type": "stream",
     "text": [
      "/pscratch/sd/j/jkalloor/justin_env_clone/lib/python3.10/site-packages/sklearn/cluster/_kmeans.py:1412: FutureWarning: The default value of `n_init` will change from 10 to 'auto' in 1.4. Set the value of `n_init` explicitly to suppress the warning\n",
      "  super()._check_params_vs_input(X, default_n_init=10)\n"
     ]
    }
   ],
   "source": [
    "from sklearn.cluster import KMeans\n",
    "\n",
    "k_means = KMeans(n_clusters=k, random_state=0).fit(vec_unitaries)\n",
    "\n",
    "# print(k_means.labels_)"
   ]
  },
  {
   "cell_type": "code",
   "execution_count": 61,
   "metadata": {},
   "outputs": [
    {
     "name": "stdout",
     "output_type": "stream",
     "text": [
      "1.4925295064265732e-05\n",
      "1.4925295064265732e-05\n"
     ]
    }
   ],
   "source": [
    "unitaries = np.array(unitaries)\n",
    "def print_distances(cluster_ids):\n",
    "    small_vecs = []\n",
    "    small_unitaries = []\n",
    "    for id in range(k):\n",
    "        all_vecs = vec_unitaries[cluster_ids == id]\n",
    "        all_unitaries = unitaries[cluster_ids == id]\n",
    "\n",
    "        if len(all_vecs) == 0:\n",
    "            continue\n",
    "        rand_int = np.random.randint(0, len(all_vecs))\n",
    "        small_vecs.append(all_vecs[rand_int])\n",
    "        small_unitaries.append(all_unitaries[rand_int])\n",
    "\n",
    "\n",
    "    # small_vecs = np.array(small_vecs)\n",
    "\n",
    "    print(get_euc_distances(small_vecs))\n",
    "    print(get_distances(small_unitaries))\n",
    "\n",
    "print_distances(np.array(k_means.labels_))"
   ]
  },
  {
   "cell_type": "code",
   "execution_count": 62,
   "metadata": {},
   "outputs": [
    {
     "name": "stderr",
     "output_type": "stream",
     "text": [
      "/pscratch/sd/j/jkalloor/justin_env_clone/lib/python3.10/site-packages/sklearn/cluster/_kmeans.py:1412: FutureWarning: The default value of `n_init` will change from 10 to 'auto' in 1.4. Set the value of `n_init` explicitly to suppress the warning\n",
      "  super()._check_params_vs_input(X, default_n_init=10)\n"
     ]
    },
    {
     "name": "stdout",
     "output_type": "stream",
     "text": [
      "1.4417993837844208e-05\n",
      "1.4417993837844208e-05\n"
     ]
    }
   ],
   "source": [
    "# PCA and then K-means\n",
    "from sklearn.decomposition import PCA\n",
    "pca = PCA(n_components=90).fit_transform(vec_unitaries)\n",
    "\n",
    "k_means_pca = KMeans(n_clusters=k, random_state=0).fit(pca)\n",
    "\n",
    "print_distances(np.array(k_means_pca.labels_))"
   ]
  },
  {
   "cell_type": "code",
   "execution_count": 63,
   "metadata": {},
   "outputs": [
    {
     "name": "stderr",
     "output_type": "stream",
     "text": [
      "/pscratch/sd/j/jkalloor/justin_env_clone/lib/python3.10/site-packages/sklearn/cluster/_kmeans.py:1412: FutureWarning: The default value of `n_init` will change from 10 to 'auto' in 1.4. Set the value of `n_init` explicitly to suppress the warning\n",
      "  super()._check_params_vs_input(X, default_n_init=10)\n"
     ]
    },
    {
     "name": "stdout",
     "output_type": "stream",
     "text": [
      "1.280944874177726e-05\n",
      "1.2809448741777261e-05\n"
     ]
    }
   ],
   "source": [
    "# PCA, then TSNE, then K-means\n",
    "from sklearn.manifold import TSNE\n",
    "\n",
    "tsne = TSNE(n_components=32, method='exact').fit_transform(pca)\n",
    "\n",
    "k_means_tsne = KMeans(n_clusters=k, random_state=0).fit(tsne)\n",
    "\n",
    "print_distances(np.array(k_means_tsne.labels_))"
   ]
  },
  {
   "cell_type": "code",
   "execution_count": 64,
   "metadata": {},
   "outputs": [
    {
     "name": "stdout",
     "output_type": "stream",
     "text": [
      "1.3658888731566029e-05\n",
      "1.3658888731566029e-05\n",
      "1.3159159306635826e-05\n",
      "1.315915930663582e-05\n",
      "1.2589790849800638e-05\n",
      "1.2589790849800641e-05\n"
     ]
    }
   ],
   "source": [
    "# Now try agglomerative clustering for all sets\n",
    "\n",
    "from sklearn.cluster import AgglomerativeClustering\n",
    "\n",
    "agglo = AgglomerativeClustering(n_clusters=k).fit(vec_unitaries)\n",
    "agglo_pca = AgglomerativeClustering(n_clusters=k).fit(pca)\n",
    "agglo_tsne = AgglomerativeClustering(n_clusters=k).fit(tsne)\n",
    "\n",
    "print_distances(np.array(agglo.labels_))\n",
    "print_distances(np.array(agglo_pca.labels_))\n",
    "print_distances(np.array(agglo_tsne.labels_))"
   ]
  }
 ],
 "metadata": {
  "kernelspec": {
   "display_name": "NERSC Python",
   "language": "python",
   "name": "python3"
  },
  "language_info": {
   "codemirror_mode": {
    "name": "ipython",
    "version": 3
   },
   "file_extension": ".py",
   "mimetype": "text/x-python",
   "name": "python",
   "nbconvert_exporter": "python",
   "pygments_lexer": "ipython3",
   "version": "3.10.11"
  }
 },
 "nbformat": 4,
 "nbformat_minor": 4
}
